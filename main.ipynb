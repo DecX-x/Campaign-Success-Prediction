{
 "cells": [
  {
   "cell_type": "markdown",
   "metadata": {},
   "source": [
    "# Import Libraries and Load Data"
   ]
  },
  {
   "cell_type": "code",
   "execution_count": 11,
   "metadata": {},
   "outputs": [],
   "source": [
    "import tensorflow as tf\n",
    "import pandas as pf\n",
    "import matplotlib.pyplot as plt\n",
    "from sklearn.model_selection import train_test_split\n",
    "from sklearn.preprocessing import LabelEncoder\n",
    "import numpy as np\n",
    "import seaborn as sns"
   ]
  },
  {
   "cell_type": "code",
   "execution_count": 12,
   "metadata": {},
   "outputs": [
    {
     "data": {
      "text/html": [
       "<div>\n",
       "<style scoped>\n",
       "    .dataframe tbody tr th:only-of-type {\n",
       "        vertical-align: middle;\n",
       "    }\n",
       "\n",
       "    .dataframe tbody tr th {\n",
       "        vertical-align: top;\n",
       "    }\n",
       "\n",
       "    .dataframe thead th {\n",
       "        text-align: right;\n",
       "    }\n",
       "</style>\n",
       "<table border=\"1\" class=\"dataframe\">\n",
       "  <thead>\n",
       "    <tr style=\"text-align: right;\">\n",
       "      <th></th>\n",
       "      <th>CampaignID</th>\n",
       "      <th>GoalAmount</th>\n",
       "      <th>RaisedAmount</th>\n",
       "      <th>DurationDays</th>\n",
       "      <th>NumBackers</th>\n",
       "      <th>Category</th>\n",
       "      <th>LaunchMonth</th>\n",
       "      <th>Country</th>\n",
       "      <th>Currency</th>\n",
       "      <th>OwnerExperience</th>\n",
       "      <th>VideoIncluded</th>\n",
       "      <th>SocialMediaPresence</th>\n",
       "      <th>NumUpdates</th>\n",
       "      <th>IsSuccessful</th>\n",
       "    </tr>\n",
       "  </thead>\n",
       "  <tbody>\n",
       "    <tr>\n",
       "      <th>0</th>\n",
       "      <td>CID_00000</td>\n",
       "      <td>76159</td>\n",
       "      <td>73518.028955</td>\n",
       "      <td>15</td>\n",
       "      <td>1903</td>\n",
       "      <td>Film</td>\n",
       "      <td>September</td>\n",
       "      <td>Australia</td>\n",
       "      <td>GBP</td>\n",
       "      <td>11</td>\n",
       "      <td>Yes</td>\n",
       "      <td>41758</td>\n",
       "      <td>3</td>\n",
       "      <td>0</td>\n",
       "    </tr>\n",
       "    <tr>\n",
       "      <th>1</th>\n",
       "      <td>CID_00001</td>\n",
       "      <td>69394</td>\n",
       "      <td>60068.683288</td>\n",
       "      <td>49</td>\n",
       "      <td>469</td>\n",
       "      <td>Art</td>\n",
       "      <td>October</td>\n",
       "      <td>Australia</td>\n",
       "      <td>GBP</td>\n",
       "      <td>7</td>\n",
       "      <td>Yes</td>\n",
       "      <td>79112</td>\n",
       "      <td>48</td>\n",
       "      <td>0</td>\n",
       "    </tr>\n",
       "    <tr>\n",
       "      <th>2</th>\n",
       "      <td>CID_00002</td>\n",
       "      <td>18652</td>\n",
       "      <td>22958.153470</td>\n",
       "      <td>58</td>\n",
       "      <td>148</td>\n",
       "      <td>Film</td>\n",
       "      <td>February</td>\n",
       "      <td>USA</td>\n",
       "      <td>EUR</td>\n",
       "      <td>17</td>\n",
       "      <td>No</td>\n",
       "      <td>3942</td>\n",
       "      <td>9</td>\n",
       "      <td>1</td>\n",
       "    </tr>\n",
       "    <tr>\n",
       "      <th>3</th>\n",
       "      <td>CID_00003</td>\n",
       "      <td>19487</td>\n",
       "      <td>24229.048390</td>\n",
       "      <td>39</td>\n",
       "      <td>780</td>\n",
       "      <td>Film</td>\n",
       "      <td>October</td>\n",
       "      <td>Germany</td>\n",
       "      <td>AUD</td>\n",
       "      <td>10</td>\n",
       "      <td>No</td>\n",
       "      <td>22047</td>\n",
       "      <td>35</td>\n",
       "      <td>1</td>\n",
       "    </tr>\n",
       "    <tr>\n",
       "      <th>4</th>\n",
       "      <td>CID_00004</td>\n",
       "      <td>26734</td>\n",
       "      <td>17984.630311</td>\n",
       "      <td>68</td>\n",
       "      <td>1622</td>\n",
       "      <td>Games</td>\n",
       "      <td>September</td>\n",
       "      <td>Australia</td>\n",
       "      <td>AUD</td>\n",
       "      <td>12</td>\n",
       "      <td>Yes</td>\n",
       "      <td>72568</td>\n",
       "      <td>17</td>\n",
       "      <td>0</td>\n",
       "    </tr>\n",
       "  </tbody>\n",
       "</table>\n",
       "</div>"
      ],
      "text/plain": [
       "  CampaignID  GoalAmount  RaisedAmount  DurationDays  NumBackers Category  \\\n",
       "0  CID_00000       76159  73518.028955            15        1903     Film   \n",
       "1  CID_00001       69394  60068.683288            49         469      Art   \n",
       "2  CID_00002       18652  22958.153470            58         148     Film   \n",
       "3  CID_00003       19487  24229.048390            39         780     Film   \n",
       "4  CID_00004       26734  17984.630311            68        1622    Games   \n",
       "\n",
       "  LaunchMonth    Country Currency  OwnerExperience VideoIncluded  \\\n",
       "0   September  Australia      GBP               11           Yes   \n",
       "1     October  Australia      GBP                7           Yes   \n",
       "2    February        USA      EUR               17            No   \n",
       "3     October    Germany      AUD               10            No   \n",
       "4   September  Australia      AUD               12           Yes   \n",
       "\n",
       "   SocialMediaPresence  NumUpdates  IsSuccessful  \n",
       "0                41758           3             0  \n",
       "1                79112          48             0  \n",
       "2                 3942           9             1  \n",
       "3                22047          35             1  \n",
       "4                72568          17             0  "
      ]
     },
     "execution_count": 12,
     "metadata": {},
     "output_type": "execute_result"
    }
   ],
   "source": [
    "data = pf.read_csv('campaign_data.csv')\n",
    "data.head()"
   ]
  },
  {
   "cell_type": "markdown",
   "metadata": {},
   "source": [
    "# Data Preprocessing"
   ]
  },
  {
   "cell_type": "code",
   "execution_count": 13,
   "metadata": {},
   "outputs": [
    {
     "data": {
      "text/html": [
       "<div>\n",
       "<style scoped>\n",
       "    .dataframe tbody tr th:only-of-type {\n",
       "        vertical-align: middle;\n",
       "    }\n",
       "\n",
       "    .dataframe tbody tr th {\n",
       "        vertical-align: top;\n",
       "    }\n",
       "\n",
       "    .dataframe thead th {\n",
       "        text-align: right;\n",
       "    }\n",
       "</style>\n",
       "<table border=\"1\" class=\"dataframe\">\n",
       "  <thead>\n",
       "    <tr style=\"text-align: right;\">\n",
       "      <th></th>\n",
       "      <th>GoalAmount</th>\n",
       "      <th>RaisedAmount</th>\n",
       "      <th>DurationDays</th>\n",
       "      <th>NumBackers</th>\n",
       "      <th>Category</th>\n",
       "      <th>LaunchMonth</th>\n",
       "      <th>Country</th>\n",
       "      <th>Currency</th>\n",
       "      <th>OwnerExperience</th>\n",
       "      <th>VideoIncluded</th>\n",
       "      <th>SocialMediaPresence</th>\n",
       "      <th>NumUpdates</th>\n",
       "      <th>IsSuccessful</th>\n",
       "    </tr>\n",
       "  </thead>\n",
       "  <tbody>\n",
       "    <tr>\n",
       "      <th>0</th>\n",
       "      <td>76159</td>\n",
       "      <td>73518.028955</td>\n",
       "      <td>15</td>\n",
       "      <td>1903</td>\n",
       "      <td>Film</td>\n",
       "      <td>September</td>\n",
       "      <td>Australia</td>\n",
       "      <td>GBP</td>\n",
       "      <td>11</td>\n",
       "      <td>Yes</td>\n",
       "      <td>41758</td>\n",
       "      <td>3</td>\n",
       "      <td>0</td>\n",
       "    </tr>\n",
       "    <tr>\n",
       "      <th>1</th>\n",
       "      <td>69394</td>\n",
       "      <td>60068.683288</td>\n",
       "      <td>49</td>\n",
       "      <td>469</td>\n",
       "      <td>Art</td>\n",
       "      <td>October</td>\n",
       "      <td>Australia</td>\n",
       "      <td>GBP</td>\n",
       "      <td>7</td>\n",
       "      <td>Yes</td>\n",
       "      <td>79112</td>\n",
       "      <td>48</td>\n",
       "      <td>0</td>\n",
       "    </tr>\n",
       "    <tr>\n",
       "      <th>2</th>\n",
       "      <td>18652</td>\n",
       "      <td>22958.153470</td>\n",
       "      <td>58</td>\n",
       "      <td>148</td>\n",
       "      <td>Film</td>\n",
       "      <td>February</td>\n",
       "      <td>USA</td>\n",
       "      <td>EUR</td>\n",
       "      <td>17</td>\n",
       "      <td>No</td>\n",
       "      <td>3942</td>\n",
       "      <td>9</td>\n",
       "      <td>1</td>\n",
       "    </tr>\n",
       "    <tr>\n",
       "      <th>3</th>\n",
       "      <td>19487</td>\n",
       "      <td>24229.048390</td>\n",
       "      <td>39</td>\n",
       "      <td>780</td>\n",
       "      <td>Film</td>\n",
       "      <td>October</td>\n",
       "      <td>Germany</td>\n",
       "      <td>AUD</td>\n",
       "      <td>10</td>\n",
       "      <td>No</td>\n",
       "      <td>22047</td>\n",
       "      <td>35</td>\n",
       "      <td>1</td>\n",
       "    </tr>\n",
       "    <tr>\n",
       "      <th>4</th>\n",
       "      <td>26734</td>\n",
       "      <td>17984.630311</td>\n",
       "      <td>68</td>\n",
       "      <td>1622</td>\n",
       "      <td>Games</td>\n",
       "      <td>September</td>\n",
       "      <td>Australia</td>\n",
       "      <td>AUD</td>\n",
       "      <td>12</td>\n",
       "      <td>Yes</td>\n",
       "      <td>72568</td>\n",
       "      <td>17</td>\n",
       "      <td>0</td>\n",
       "    </tr>\n",
       "  </tbody>\n",
       "</table>\n",
       "</div>"
      ],
      "text/plain": [
       "   GoalAmount  RaisedAmount  DurationDays  NumBackers Category LaunchMonth  \\\n",
       "0       76159  73518.028955            15        1903     Film   September   \n",
       "1       69394  60068.683288            49         469      Art     October   \n",
       "2       18652  22958.153470            58         148     Film    February   \n",
       "3       19487  24229.048390            39         780     Film     October   \n",
       "4       26734  17984.630311            68        1622    Games   September   \n",
       "\n",
       "     Country Currency  OwnerExperience VideoIncluded  SocialMediaPresence  \\\n",
       "0  Australia      GBP               11           Yes                41758   \n",
       "1  Australia      GBP                7           Yes                79112   \n",
       "2        USA      EUR               17            No                 3942   \n",
       "3    Germany      AUD               10            No                22047   \n",
       "4  Australia      AUD               12           Yes                72568   \n",
       "\n",
       "   NumUpdates  IsSuccessful  \n",
       "0           3             0  \n",
       "1          48             0  \n",
       "2           9             1  \n",
       "3          35             1  \n",
       "4          17             0  "
      ]
     },
     "execution_count": 13,
     "metadata": {},
     "output_type": "execute_result"
    }
   ],
   "source": [
    "# drop the campaign_id column\n",
    "data = data.drop(['CampaignID'], axis=1)\n",
    "data.head()"
   ]
  },
  {
   "cell_type": "code",
   "execution_count": 14,
   "metadata": {},
   "outputs": [
    {
     "name": "stdout",
     "output_type": "stream",
     "text": [
      "GoalAmount has 0 missing values\n",
      "RaisedAmount has 0 missing values\n",
      "DurationDays has 0 missing values\n",
      "NumBackers has 0 missing values\n",
      "Category has 0 missing values\n",
      "LaunchMonth has 0 missing values\n",
      "Country has 0 missing values\n",
      "Currency has 0 missing values\n",
      "OwnerExperience has 0 missing values\n",
      "VideoIncluded has 0 missing values\n",
      "SocialMediaPresence has 0 missing values\n",
      "NumUpdates has 0 missing values\n",
      "IsSuccessful has 0 missing values\n"
     ]
    }
   ],
   "source": [
    "# check for missing values\n",
    "for column in data.columns:\n",
    "    print(f'{column} has {data[column].isnull().sum()} missing values')\n"
   ]
  },
  {
   "cell_type": "code",
   "execution_count": 15,
   "metadata": {},
   "outputs": [
    {
     "name": "stdout",
     "output_type": "stream",
     "text": [
      "GoalAmount has int64 data type\n",
      "RaisedAmount has float64 data type\n",
      "DurationDays has int64 data type\n",
      "NumBackers has int64 data type\n",
      "Category has object data type\n",
      "LaunchMonth has object data type\n",
      "Country has object data type\n",
      "Currency has object data type\n",
      "OwnerExperience has int64 data type\n",
      "VideoIncluded has object data type\n",
      "SocialMediaPresence has int64 data type\n",
      "NumUpdates has int64 data type\n",
      "IsSuccessful has int64 data type\n"
     ]
    }
   ],
   "source": [
    "# check column data types\n",
    "for column in data.columns:\n",
    "    print(f'{column} has {data[column].dtype} data type')"
   ]
  },
  {
   "cell_type": "code",
   "execution_count": 16,
   "metadata": {},
   "outputs": [
    {
     "data": {
      "text/html": [
       "<div>\n",
       "<style scoped>\n",
       "    .dataframe tbody tr th:only-of-type {\n",
       "        vertical-align: middle;\n",
       "    }\n",
       "\n",
       "    .dataframe tbody tr th {\n",
       "        vertical-align: top;\n",
       "    }\n",
       "\n",
       "    .dataframe thead th {\n",
       "        text-align: right;\n",
       "    }\n",
       "</style>\n",
       "<table border=\"1\" class=\"dataframe\">\n",
       "  <thead>\n",
       "    <tr style=\"text-align: right;\">\n",
       "      <th></th>\n",
       "      <th>GoalAmount</th>\n",
       "      <th>RaisedAmount</th>\n",
       "      <th>DurationDays</th>\n",
       "      <th>NumBackers</th>\n",
       "      <th>Category</th>\n",
       "      <th>LaunchMonth</th>\n",
       "      <th>Country</th>\n",
       "      <th>Currency</th>\n",
       "      <th>OwnerExperience</th>\n",
       "      <th>VideoIncluded</th>\n",
       "      <th>SocialMediaPresence</th>\n",
       "      <th>NumUpdates</th>\n",
       "      <th>IsSuccessful</th>\n",
       "    </tr>\n",
       "  </thead>\n",
       "  <tbody>\n",
       "    <tr>\n",
       "      <th>0</th>\n",
       "      <td>76159</td>\n",
       "      <td>73518.028955</td>\n",
       "      <td>15</td>\n",
       "      <td>1903</td>\n",
       "      <td>1</td>\n",
       "      <td>11</td>\n",
       "      <td>0</td>\n",
       "      <td>3</td>\n",
       "      <td>11</td>\n",
       "      <td>1</td>\n",
       "      <td>41758</td>\n",
       "      <td>3</td>\n",
       "      <td>0</td>\n",
       "    </tr>\n",
       "    <tr>\n",
       "      <th>1</th>\n",
       "      <td>69394</td>\n",
       "      <td>60068.683288</td>\n",
       "      <td>49</td>\n",
       "      <td>469</td>\n",
       "      <td>0</td>\n",
       "      <td>10</td>\n",
       "      <td>0</td>\n",
       "      <td>3</td>\n",
       "      <td>7</td>\n",
       "      <td>1</td>\n",
       "      <td>79112</td>\n",
       "      <td>48</td>\n",
       "      <td>0</td>\n",
       "    </tr>\n",
       "    <tr>\n",
       "      <th>2</th>\n",
       "      <td>18652</td>\n",
       "      <td>22958.153470</td>\n",
       "      <td>58</td>\n",
       "      <td>148</td>\n",
       "      <td>1</td>\n",
       "      <td>3</td>\n",
       "      <td>4</td>\n",
       "      <td>2</td>\n",
       "      <td>17</td>\n",
       "      <td>0</td>\n",
       "      <td>3942</td>\n",
       "      <td>9</td>\n",
       "      <td>1</td>\n",
       "    </tr>\n",
       "    <tr>\n",
       "      <th>3</th>\n",
       "      <td>19487</td>\n",
       "      <td>24229.048390</td>\n",
       "      <td>39</td>\n",
       "      <td>780</td>\n",
       "      <td>1</td>\n",
       "      <td>10</td>\n",
       "      <td>2</td>\n",
       "      <td>0</td>\n",
       "      <td>10</td>\n",
       "      <td>0</td>\n",
       "      <td>22047</td>\n",
       "      <td>35</td>\n",
       "      <td>1</td>\n",
       "    </tr>\n",
       "    <tr>\n",
       "      <th>4</th>\n",
       "      <td>26734</td>\n",
       "      <td>17984.630311</td>\n",
       "      <td>68</td>\n",
       "      <td>1622</td>\n",
       "      <td>2</td>\n",
       "      <td>11</td>\n",
       "      <td>0</td>\n",
       "      <td>0</td>\n",
       "      <td>12</td>\n",
       "      <td>1</td>\n",
       "      <td>72568</td>\n",
       "      <td>17</td>\n",
       "      <td>0</td>\n",
       "    </tr>\n",
       "  </tbody>\n",
       "</table>\n",
       "</div>"
      ],
      "text/plain": [
       "   GoalAmount  RaisedAmount  DurationDays  NumBackers  Category  LaunchMonth  \\\n",
       "0       76159  73518.028955            15        1903         1           11   \n",
       "1       69394  60068.683288            49         469         0           10   \n",
       "2       18652  22958.153470            58         148         1            3   \n",
       "3       19487  24229.048390            39         780         1           10   \n",
       "4       26734  17984.630311            68        1622         2           11   \n",
       "\n",
       "   Country  Currency  OwnerExperience  VideoIncluded  SocialMediaPresence  \\\n",
       "0        0         3               11              1                41758   \n",
       "1        0         3                7              1                79112   \n",
       "2        4         2               17              0                 3942   \n",
       "3        2         0               10              0                22047   \n",
       "4        0         0               12              1                72568   \n",
       "\n",
       "   NumUpdates  IsSuccessful  \n",
       "0           3             0  \n",
       "1          48             0  \n",
       "2           9             1  \n",
       "3          35             1  \n",
       "4          17             0  "
      ]
     },
     "execution_count": 16,
     "metadata": {},
     "output_type": "execute_result"
    }
   ],
   "source": [
    "# convert categorical columns to numerical\n",
    "label_encoder = LabelEncoder()\n",
    "data['Category'] = label_encoder.fit_transform(data['Category'])\n",
    "data['LaunchMonth'] = label_encoder.fit_transform(data['LaunchMonth'])\n",
    "data['Country'] = label_encoder.fit_transform(data['Country'])\n",
    "data['Currency'] = label_encoder.fit_transform(data['Currency'])\n",
    "data['VideoIncluded'] = label_encoder.fit_transform(data['VideoIncluded'])\n",
    "\n",
    "data.head()\n",
    "\n"
   ]
  },
  {
   "cell_type": "code",
   "execution_count": 18,
   "metadata": {},
   "outputs": [],
   "source": [
    "# feature selection\n",
    "X = data.drop(['IsSuccessful'], axis=1)\n",
    "y = data['IsSuccessful']\n"
   ]
  },
  {
   "cell_type": "code",
   "execution_count": 20,
   "metadata": {},
   "outputs": [],
   "source": [
    "# split the data into training and testing sets\n",
    "X_train, X_test, y_train, y_test = train_test_split(X, y, test_size=0.2, random_state=42)"
   ]
  },
  {
   "cell_type": "markdown",
   "metadata": {},
   "source": [
    "# Build Model"
   ]
  },
  {
   "cell_type": "code",
   "execution_count": 21,
   "metadata": {},
   "outputs": [
    {
     "name": "stdout",
     "output_type": "stream",
     "text": [
      "Model: \"sequential\"\n",
      "_________________________________________________________________\n",
      " Layer (type)                Output Shape              Param #   \n",
      "=================================================================\n",
      " dense (Dense)               (None, 32)                416       \n",
      "                                                                 \n",
      " dense_1 (Dense)             (None, 32)                1056      \n",
      "                                                                 \n",
      " dense_2 (Dense)             (None, 1)                 33        \n",
      "                                                                 \n",
      "=================================================================\n",
      "Total params: 1,505\n",
      "Trainable params: 1,505\n",
      "Non-trainable params: 0\n",
      "_________________________________________________________________\n"
     ]
    }
   ],
   "source": [
    "# build the model\n",
    "model = tf.keras.Sequential([\n",
    "    tf.keras.layers.Dense(32, activation='relu', input_shape=(X_train.shape[1],)),\n",
    "    tf.keras.layers.Dense(32, activation='relu'),\n",
    "    tf.keras.layers.Dense(1, activation='sigmoid')\n",
    "])\n",
    "\n",
    "model.compile(optimizer='adam', loss='binary_crossentropy', metrics=['accuracy'])\n",
    "\n",
    "model.summary()"
   ]
  },
  {
   "cell_type": "markdown",
   "metadata": {},
   "source": [
    "# Train Model"
   ]
  },
  {
   "cell_type": "code",
   "execution_count": 22,
   "metadata": {},
   "outputs": [
    {
     "name": "stdout",
     "output_type": "stream",
     "text": [
      "Epoch 1/100\n",
      "2000/2000 [==============================] - 13s 5ms/step - loss: 24.2055 - accuracy: 0.9563 - val_loss: 4.5619 - val_accuracy: 0.9663\n",
      "Epoch 2/100\n",
      "2000/2000 [==============================] - 4s 2ms/step - loss: 5.7370 - accuracy: 0.9725 - val_loss: 9.6727 - val_accuracy: 0.9625\n",
      "Epoch 3/100\n",
      "2000/2000 [==============================] - 4s 2ms/step - loss: 5.0824 - accuracy: 0.9778 - val_loss: 1.1558 - val_accuracy: 0.9888\n",
      "Epoch 4/100\n",
      "2000/2000 [==============================] - 4s 2ms/step - loss: 4.7082 - accuracy: 0.9802 - val_loss: 2.6780 - val_accuracy: 0.9839\n",
      "Epoch 5/100\n",
      "2000/2000 [==============================] - 4s 2ms/step - loss: 3.8082 - accuracy: 0.9803 - val_loss: 1.0694 - val_accuracy: 0.9899\n",
      "Epoch 6/100\n",
      "2000/2000 [==============================] - 4s 2ms/step - loss: 2.5869 - accuracy: 0.9843 - val_loss: 2.0127 - val_accuracy: 0.9825\n",
      "Epoch 7/100\n",
      "2000/2000 [==============================] - 4s 2ms/step - loss: 2.3562 - accuracy: 0.9846 - val_loss: 2.5375 - val_accuracy: 0.9790\n"
     ]
    }
   ],
   "source": [
    "early_stopping = tf.keras.callbacks.EarlyStopping(patience=2)\n",
    "\n",
    "history = model.fit(X_train, y_train, epochs=100, batch_size=32, validation_split=0.2, callbacks=[early_stopping])"
   ]
  },
  {
   "cell_type": "code",
   "execution_count": 23,
   "metadata": {},
   "outputs": [
    {
     "data": {
      "image/png": "[encoded data removed]",
      "text/plain": [
       "<Figure size 640x480 with 1 Axes>"
      ]
     },
     "metadata": {},
     "output_type": "display_data"
    }
   ],
   "source": [
    "# plot the training and validation loss\n",
    "plt.plot(history.history['loss'])\n",
    "plt.plot(history.history['val_loss'])\n",
    "plt.title('Model Loss')\n",
    "plt.ylabel('Loss')\n",
    "plt.xlabel('Epoch')\n",
    "plt.legend(['Train', 'Val'], loc='upper right')\n",
    "plt.show()"
   ]
  },
  {
   "cell_type": "markdown",
   "metadata": {},
   "source": [
    "# Predict with Test Data"
   ]
  },
  {
   "cell_type": "code",
   "execution_count": 28,
   "metadata": {},
   "outputs": [
    {
     "name": "stdout",
     "output_type": "stream",
     "text": [
      "625/625 [==============================] - 1s 873us/step\n",
      "625/625 [==============================] - 1s 1ms/step - loss: 2.9828 - accuracy: 0.9765\n",
      "Model Loss: 2.9827828407287598\n",
      "Model Accuracy: 97.65%\n"
     ]
    }
   ],
   "source": [
    "# predict on the test set\n",
    "y_pred = model.predict(X_test)\n",
    "y_pred = np.round(y_pred)\n",
    "\n",
    "# evaluate the model\n",
    "loss, accuracy = model.evaluate(X_test, y_test)\n",
    "print(f'Model Loss: {loss}')\n",
    "print(f'Model Accuracy: {accuracy * 100:.2f}%')\n"
   ]
  },
  {
   "cell_type": "code",
   "execution_count": 31,
   "metadata": {},
   "outputs": [
    {
     "data": {
      "image/png": "[encoded data removed]",
      "text/plain": [
       "<Figure size 1000x700 with 2 Axes>"
      ]
     },
     "metadata": {},
     "output_type": "display_data"
    }
   ],
   "source": [
    "cm = tf.math.confusion_matrix(labels=y_test, predictions=y_pred)\n",
    "plt.figure(figsize=(10, 7))\n",
    "sns.heatmap(cm, annot=True, fmt='d')\n",
    "plt.xlabel('Predicted')\n",
    "plt.ylabel('Actual')\n",
    "plt.show()\n"
   ]
  }
 ],
 "metadata": {
  "kernelspec": {
   "display_name": "tensorflow",
   "language": "python",
   "name": "python3"
  },
  "language_info": {
   "codemirror_mode": {
    "name": "ipython",
    "version": 3
   },
   "file_extension": ".py",
   "mimetype": "text/x-python",
   "name": "python",
   "nbconvert_exporter": "python",
   "pygments_lexer": "ipython3",
   "version": "3.9.18"
  }
 },
 "nbformat": 4,
 "nbformat_minor": 2
}
